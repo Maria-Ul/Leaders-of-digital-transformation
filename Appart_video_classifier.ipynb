{
  "nbformat": 4,
  "nbformat_minor": 0,
  "metadata": {
    "colab": {
      "provenance": [],
      "collapsed_sections": [
        "cTyHbyvgu3k4",
        "k6rt5Iprk0K6"
      ],
      "gpuType": "T4",
      "include_colab_link": true
    },
    "kernelspec": {
      "name": "python3",
      "display_name": "Python 3"
    },
    "language_info": {
      "name": "python"
    },
    "accelerator": "GPU",
    "gpuClass": "standard"
  },
  "cells": [
    {
      "cell_type": "markdown",
      "metadata": {
        "id": "view-in-github",
        "colab_type": "text"
      },
      "source": [
        "<a href=\"https://colab.research.google.com/github/Maria-Ul/Leaders-of-digital-transformation/blob/main/Appart_video_classifier.ipynb\" target=\"_parent\"><img src=\"https://colab.research.google.com/assets/colab-badge.svg\" alt=\"Open In Colab\"/></a>"
      ]
    },
    {
      "cell_type": "code",
      "source": [
        "from google.colab import drive\n",
        "drive.mount('/content/drive')"
      ],
      "metadata": {
        "id": "0XPOW8rLE363"
      },
      "execution_count": null,
      "outputs": []
    },
    {
      "cell_type": "markdown",
      "source": [
        "# VIDEO preprocessing\n"
      ],
      "metadata": {
        "id": "IXAmfeAZmd0z"
      }
    },
    {
      "cell_type": "code",
      "source": [
        "import numpy as np\n",
        "import cv2 as cv\n",
        "from google.colab.patches import cv2_imshow\n",
        "import time"
      ],
      "metadata": {
        "id": "9y_6DvOYx548"
      },
      "execution_count": null,
      "outputs": []
    },
    {
      "cell_type": "code",
      "source": [
        "# cap = cv.VideoCapture('/content/drive/MyDrive/video_2023-06-06_11-17-57.mp4')\n",
        "# if not cap.isOpened():\n",
        "#     print(\"Cannot open camera\")\n",
        "#     exit()\n",
        "\n",
        "\n",
        "# while True:\n",
        "#     frame_rate = 0.1\n",
        "#     prev = 0\n",
        "\n",
        "#     time_elapsed = time.time() - prev\n",
        "#     res, image = cap.read()\n",
        "\n",
        "#     if time_elapsed > 1./frame_rate:\n",
        "#         prev = time.time()\n",
        "\n",
        "#         # Do something with your image here.\n",
        "#         # process_image()\n",
        "#     # Capture frame-by-frame\n",
        "#         ret, frame = cap.read()\n",
        "#         # if frame is read correctly ret is True\n",
        "#         if not ret:\n",
        "#             print(\"Can't receive frame (stream end?). Exiting ...\")\n",
        "#             break\n",
        "#         # Our operations on the frame come here\n",
        "#         gray = cv.cvtColor(frame, cv.COLOR_BGR2GRAY)\n",
        "#         # Display the resulting frame\n",
        "#         cv2_imshow(gray)\n",
        "#     if cv.waitKey(1) == ord('q'):\n",
        "#         break\n",
        "# # When everything done, release the capture\n",
        "# cap.release()\n",
        "# cv.destroyAllWindows()\n"
      ],
      "metadata": {
        "id": "JwL3QuQSxraE"
      },
      "execution_count": null,
      "outputs": []
    },
    {
      "cell_type": "code",
      "source": [
        "# import torch\n",
        "# import torchvision\n",
        "# from torchvision.datasets.utils import download_url\n",
        "# torchvision.set_video_backend(\"video_reader\")\n",
        "\n",
        "# # Download the sample video\n",
        "# download_url(\n",
        "#     \"https://github.com/pytorch/vision/blob/main/test/assets/videos/WUzgd7C1pWA.mp4?raw=true\",\n",
        "#     \".\",\n",
        "#     \"WUzgd7C1pWA.mp4\"\n",
        "# )\n",
        "# video_path = \"./WUzgd7C1pWA.mp4\""
      ],
      "metadata": {
        "id": "3deOX_vImiQS"
      },
      "execution_count": null,
      "outputs": []
    },
    {
      "cell_type": "code",
      "source": [
        "\n",
        "from __future__ import print_function, division\n",
        "\n",
        "import os\n",
        "import pickle\n",
        "\n",
        "import cv2\n",
        "import numpy as np\n",
        "import torch\n",
        "from torch.utils.data import Dataset"
      ],
      "metadata": {
        "id": "9i2Vxxann0ov"
      },
      "execution_count": null,
      "outputs": []
    },
    {
      "cell_type": "code",
      "source": [
        "class GeneralVideoDataset(Dataset):\n",
        "    \"\"\"Dataset Class for Loading Video\"\"\"\n",
        "\n",
        "    def __init__(\n",
        "        self,\n",
        "        clips_list_file,\n",
        "        root_dir,\n",
        "        channels,\n",
        "        time_depth,\n",
        "        x_size,\n",
        "        y_size,\n",
        "        mean,\n",
        "        transform=None,\n",
        "    ):\n",
        "        \"\"\"\n",
        "        Args:\n",
        "            clips_list_file (string): Path to the clipsList file with labels.\n",
        "            root_dir (string): Directory with all the videoes.\n",
        "            transform (callable, optional): Optional transform to be applied\n",
        "                on a sample.\n",
        "            channels: Number of channels of frames\n",
        "            time_depth: Number of frames to be loaded in a sample\n",
        "            x_size, y_size: Dimensions of the frames\n",
        "            mean: Mean value of the training set videos over each channel\n",
        "        \"\"\"\n",
        "        with open(clips_list_file, \"rb\") as fp:  # Unpickling\n",
        "            clips_list_file = pickle.load(fp)\n",
        "\n",
        "        self.clips_list = clips_list_file\n",
        "        self.root_dir = root_dir\n",
        "        self.channels = channels\n",
        "        self.time_depth = time_depth\n",
        "        self.x_size = x_size\n",
        "        self.y_size = y_size\n",
        "        self.mean = mean\n",
        "        self.transform = transform\n",
        "\n",
        "    def __len__(self):\n",
        "        return len(self.clipsList)\n",
        "\n",
        "    def read_video(self, video_file):\n",
        "        # Open the video file\n",
        "        cap = cv2.VideoCapture(video_file)\n",
        "        frames = torch.FloatTensor(\n",
        "            self.channels, self.time_depth, self.x_size, self.y_size\n",
        "        )\n",
        "        failed_clip = False\n",
        "        for f in range(self.time_depth):\n",
        "\n",
        "            ret, frame = cap.read()\n",
        "            if ret:\n",
        "                frame = torch.from_numpy(frame)\n",
        "                # HWC2CHW\n",
        "                frame = frame.permute(2, 0, 1)\n",
        "                frames[:, f, :, :] = frame\n",
        "\n",
        "            else:\n",
        "                print(\"Skipped!\")\n",
        "                failed_clip = True\n",
        "                break\n",
        "\n",
        "        for idx in range(len(self.mean)):\n",
        "            frames[idx] = (frames[idx] - self.mean[idx]) / self.stddev[idx]\n",
        "\n",
        "        return frames, failed_clip\n",
        "\n",
        "    def __getitem__(self, idx):\n",
        "\n",
        "        video_file = os.path.join(self.root_dir, self.clips_list[idx][0])\n",
        "        clip, failed_clip = self.read_video(video_file)\n",
        "        if self.transform:\n",
        "            clip = self.transform(clip)\n",
        "        sample = {\n",
        "            \"clip\": clip,\n",
        "            \"label\": self.clips_list[idx][1],\n",
        "            \"failedClip\": failed_clip,\n",
        "        }\n",
        "\n",
        "        return sample"
      ],
      "metadata": {
        "id": "LyD_y1HTu3TU"
      },
      "execution_count": null,
      "outputs": []
    },
    {
      "cell_type": "code",
      "source": [
        "import torch\n",
        "import matplotlib.pyplot as plt\n"
      ],
      "metadata": {
        "id": "5UN0ero_GmpF"
      },
      "execution_count": null,
      "outputs": []
    },
    {
      "cell_type": "code",
      "source": [
        "def read_video(video_file, freq = 10):\n",
        "    # Open the video file\n",
        "    cap = cv.VideoCapture(video_file)\n",
        "    frames = []\n",
        "    # frames = torch.FloatTensor(\n",
        "    #     channels, time_depth, x_size, y_size\n",
        "    # )\n",
        "    failed_clip = False\n",
        "    # for f in range(time_depth):\n",
        "    it = 0\n",
        "    while cap.isOpened():\n",
        "        it+=1\n",
        "        ret, frame = cap.read()\n",
        "        if it%freq==0:\n",
        "\n",
        "          if ret:\n",
        "              # frame = torch.from_numpy(frame)\n",
        "              # HWC2CHW\n",
        "              # frame = np.transpose(frame,(2, 0, 1))\n",
        "              frames.append(frame)\n",
        "\n",
        "          else:\n",
        "              print(\"Skipped!\")\n",
        "              failed_clip = True\n",
        "              print(it)\n",
        "              break\n",
        "\n",
        "    # for idx in range(len(mean)):\n",
        "    #     frames[idx] = (frames[idx] - self.mean[idx]) / self.stddev[idx]\n",
        "\n",
        "    return frames, failed_clip"
      ],
      "metadata": {
        "id": "I3A2YfI9FxvX"
      },
      "execution_count": null,
      "outputs": []
    },
    {
      "cell_type": "code",
      "source": [
        "frames, failed_clip = read_video('/content/drive/MyDrive/лцт/video_2023-06-06_11-17-57.mp4', freq = 100)"
      ],
      "metadata": {
        "colab": {
          "base_uri": "https://localhost:8080/"
        },
        "id": "rnahf7K3GXPl",
        "outputId": "549a5cc6-56ca-4bc8-d421-2b57417d9ced"
      },
      "execution_count": null,
      "outputs": [
        {
          "output_type": "stream",
          "name": "stdout",
          "text": [
            "Skipped!\n",
            "1200\n"
          ]
        }
      ]
    },
    {
      "cell_type": "code",
      "source": [
        "frames1, failed_clip = read_video('/content/drive/MyDrive/лцт/video_2023-06-06_11-17-57.mp4', freq = 100)"
      ],
      "metadata": {
        "colab": {
          "base_uri": "https://localhost:8080/"
        },
        "id": "4xiKXZZvn8CN",
        "outputId": "5503878c-efff-4ca9-d1e1-f11c7f4e7281"
      },
      "execution_count": null,
      "outputs": [
        {
          "output_type": "stream",
          "name": "stdout",
          "text": [
            "Skipped!\n",
            "1200\n"
          ]
        }
      ]
    },
    {
      "cell_type": "code",
      "source": [
        "print(len(frames))"
      ],
      "metadata": {
        "id": "Z02Dm7ziG3pf"
      },
      "execution_count": null,
      "outputs": []
    },
    {
      "cell_type": "code",
      "source": [
        "print(len(frames1))"
      ],
      "metadata": {
        "colab": {
          "base_uri": "https://localhost:8080/"
        },
        "id": "0CoHL1-goC2n",
        "outputId": "c11b27a8-ba67-46d3-c70a-9f89754d159e"
      },
      "execution_count": null,
      "outputs": [
        {
          "output_type": "stream",
          "name": "stdout",
          "text": [
            "11\n"
          ]
        }
      ]
    },
    {
      "cell_type": "code",
      "source": [
        "plt.imshow(frames[5].permute(1, 2, 0))"
      ],
      "metadata": {
        "colab": {
          "base_uri": "https://localhost:8080/",
          "height": 166
        },
        "id": "rWqBc-yQJxg7",
        "outputId": "8e8f37fd-f87a-42bc-a23a-2d5c1d657d2b"
      },
      "execution_count": null,
      "outputs": [
        {
          "output_type": "error",
          "ename": "AttributeError",
          "evalue": "ignored",
          "traceback": [
            "\u001b[0;31m---------------------------------------------------------------------------\u001b[0m",
            "\u001b[0;31mAttributeError\u001b[0m                            Traceback (most recent call last)",
            "\u001b[0;32m<ipython-input-15-b1b9e0f03da8>\u001b[0m in \u001b[0;36m<cell line: 1>\u001b[0;34m()\u001b[0m\n\u001b[0;32m----> 1\u001b[0;31m \u001b[0mplt\u001b[0m\u001b[0;34m.\u001b[0m\u001b[0mimshow\u001b[0m\u001b[0;34m(\u001b[0m\u001b[0mframes\u001b[0m\u001b[0;34m[\u001b[0m\u001b[0;36m5\u001b[0m\u001b[0;34m]\u001b[0m\u001b[0;34m.\u001b[0m\u001b[0mpermute\u001b[0m\u001b[0;34m(\u001b[0m\u001b[0;36m1\u001b[0m\u001b[0;34m,\u001b[0m \u001b[0;36m2\u001b[0m\u001b[0;34m,\u001b[0m \u001b[0;36m0\u001b[0m\u001b[0;34m)\u001b[0m\u001b[0;34m)\u001b[0m\u001b[0;34m\u001b[0m\u001b[0;34m\u001b[0m\u001b[0m\n\u001b[0m",
            "\u001b[0;31mAttributeError\u001b[0m: 'numpy.ndarray' object has no attribute 'permute'"
          ]
        }
      ]
    },
    {
      "cell_type": "code",
      "source": [
        "plt.imshow(frames1[5].permute(1, 2, 0))"
      ],
      "metadata": {
        "colab": {
          "base_uri": "https://localhost:8080/",
          "height": 452
        },
        "id": "CrDoH9qdoQS8",
        "outputId": "f64da423-c1fb-468e-dda6-4239cf5c9dc2"
      },
      "execution_count": null,
      "outputs": [
        {
          "output_type": "execute_result",
          "data": {
            "text/plain": [
              "<matplotlib.image.AxesImage at 0x7f9d8c5dc8e0>"
            ]
          },
          "metadata": {},
          "execution_count": 32
        },
        {
          "output_type": "display_data",
          "data": {
            "text/plain": [
              "<Figure size 640x480 with 1 Axes>"
            ],
            "image/png": "[encoded data removed]"
          },
          "metadata": {}
        }
      ]
    },
    {
      "cell_type": "code",
      "source": [
        "for i in range(len(frames)):\n",
        "  plt.imshow(frames[i])#.permute(1, 2, 0))\n",
        "  plt.show()"
      ],
      "metadata": {
        "id": "nq-zSpRpGqFG"
      },
      "execution_count": null,
      "outputs": []
    },
    {
      "cell_type": "markdown",
      "source": [
        "# load data"
      ],
      "metadata": {
        "id": "cTyHbyvgu3k4"
      }
    },
    {
      "cell_type": "code",
      "source": [
        "!unzip /content/drive/MyDrive/labeled_data.zip -d /content/data_new\n"
      ],
      "metadata": {
        "id": "PgkjOu4Lk1mA"
      },
      "execution_count": null,
      "outputs": []
    },
    {
      "cell_type": "markdown",
      "source": [
        "\n",
        "## labeler.py\n"
      ],
      "metadata": {
        "id": "k6rt5Iprk0K6"
      }
    },
    {
      "cell_type": "code",
      "source": [
        "import os\n",
        "import shutil\n",
        "\n",
        "images = os.listdir('/content/data_new/data_new/с черновой отделкой')\n",
        "\n",
        "for image in images:\n",
        "  img_name = image.split('.')[0]\n",
        "  shutil.copyfile(f'/content/data_new/data_new/с черновой отделкой/{image}',f'/content/data_labeled/images/{img_name}_1.jpg')\n",
        "  with open(f'/content/data_labeled/labels/{img_name}_1.txt', 'w') as file:\n",
        "    file.write('1 0.5 0.5 1 1')\n"
      ],
      "metadata": {
        "id": "hKsjhJgyk0es"
      },
      "execution_count": null,
      "outputs": []
    },
    {
      "cell_type": "markdown",
      "source": [],
      "metadata": {
        "id": "viW_PYApkzKl"
      }
    },
    {
      "cell_type": "code",
      "source": [
        "!unzip /content/data2.zip -d /content/data2\n"
      ],
      "metadata": {
        "id": "Yk9MvuSBaEut"
      },
      "execution_count": null,
      "outputs": []
    },
    {
      "cell_type": "code",
      "source": [
        "!unzip /content/labeled_data.zip -d /content/data_labeled"
      ],
      "metadata": {
        "colab": {
          "base_uri": "https://localhost:8080/"
        },
        "id": "zRS6-QykN3_5",
        "outputId": "2ae74f28-c912-46f1-c6d2-53cd98047bce"
      },
      "execution_count": null,
      "outputs": [
        {
          "output_type": "stream",
          "name": "stdout",
          "text": [
            "Archive:  /content/labeled_data.zip\n",
            "  End-of-central-directory signature not found.  Either this file is not\n",
            "  a zipfile, or it constitutes one disk of a multi-part archive.  In the\n",
            "  latter case the central directory and zipfile comment will be found on\n",
            "  the last disk(s) of this archive.\n",
            "unzip:  cannot find zipfile directory in one of /content/labeled_data.zip or\n",
            "        /content/labeled_data.zip.zip, and cannot find /content/labeled_data.zip.ZIP, period.\n"
          ]
        }
      ]
    },
    {
      "cell_type": "markdown",
      "source": [
        "# YOLO"
      ],
      "metadata": {
        "id": "lXlwFWZnWXPQ"
      }
    },
    {
      "cell_type": "code",
      "execution_count": null,
      "metadata": {
        "id": "ofL-2w_ZFdNA",
        "colab": {
          "base_uri": "https://localhost:8080/"
        },
        "outputId": "cabd2447-8ae5-44ed-c979-cf7d117b4d8f"
      },
      "outputs": [
        {
          "output_type": "stream",
          "name": "stdout",
          "text": [
            "Looking in indexes: https://pypi.org/simple, https://us-python.pkg.dev/colab-wheels/public/simple/\n",
            "Collecting ultralytics\n",
            "  Downloading ultralytics-8.0.115-py3-none-any.whl (595 kB)\n",
            "\u001b[2K     \u001b[90m━━━━━━━━━━━━━━━━━━━━━━━━━━━━━━━━━━━━━━\u001b[0m \u001b[32m595.6/595.6 kB\u001b[0m \u001b[31m12.0 MB/s\u001b[0m eta \u001b[36m0:00:00\u001b[0m\n",
            "\u001b[?25hRequirement already satisfied: matplotlib>=3.2.2 in /usr/local/lib/python3.10/dist-packages (from ultralytics) (3.7.1)\n",
            "Requirement already satisfied: opencv-python>=4.6.0 in /usr/local/lib/python3.10/dist-packages (from ultralytics) (4.7.0.72)\n",
            "Requirement already satisfied: Pillow>=7.1.2 in /usr/local/lib/python3.10/dist-packages (from ultralytics) (8.4.0)\n",
            "Requirement already satisfied: PyYAML>=5.3.1 in /usr/local/lib/python3.10/dist-packages (from ultralytics) (6.0)\n",
            "Requirement already satisfied: requests>=2.23.0 in /usr/local/lib/python3.10/dist-packages (from ultralytics) (2.27.1)\n",
            "Requirement already satisfied: scipy>=1.4.1 in /usr/local/lib/python3.10/dist-packages (from ultralytics) (1.10.1)\n",
            "Requirement already satisfied: torch>=1.7.0 in /usr/local/lib/python3.10/dist-packages (from ultralytics) (2.0.1+cu118)\n",
            "Requirement already satisfied: torchvision>=0.8.1 in /usr/local/lib/python3.10/dist-packages (from ultralytics) (0.15.2+cu118)\n",
            "Requirement already satisfied: tqdm>=4.64.0 in /usr/local/lib/python3.10/dist-packages (from ultralytics) (4.65.0)\n",
            "Requirement already satisfied: pandas>=1.1.4 in /usr/local/lib/python3.10/dist-packages (from ultralytics) (1.5.3)\n",
            "Requirement already satisfied: seaborn>=0.11.0 in /usr/local/lib/python3.10/dist-packages (from ultralytics) (0.12.2)\n",
            "Requirement already satisfied: psutil in /usr/local/lib/python3.10/dist-packages (from ultralytics) (5.9.5)\n",
            "Requirement already satisfied: contourpy>=1.0.1 in /usr/local/lib/python3.10/dist-packages (from matplotlib>=3.2.2->ultralytics) (1.0.7)\n",
            "Requirement already satisfied: cycler>=0.10 in /usr/local/lib/python3.10/dist-packages (from matplotlib>=3.2.2->ultralytics) (0.11.0)\n",
            "Requirement already satisfied: fonttools>=4.22.0 in /usr/local/lib/python3.10/dist-packages (from matplotlib>=3.2.2->ultralytics) (4.39.3)\n",
            "Requirement already satisfied: kiwisolver>=1.0.1 in /usr/local/lib/python3.10/dist-packages (from matplotlib>=3.2.2->ultralytics) (1.4.4)\n",
            "Requirement already satisfied: numpy>=1.20 in /usr/local/lib/python3.10/dist-packages (from matplotlib>=3.2.2->ultralytics) (1.22.4)\n",
            "Requirement already satisfied: packaging>=20.0 in /usr/local/lib/python3.10/dist-packages (from matplotlib>=3.2.2->ultralytics) (23.1)\n",
            "Requirement already satisfied: pyparsing>=2.3.1 in /usr/local/lib/python3.10/dist-packages (from matplotlib>=3.2.2->ultralytics) (3.0.9)\n",
            "Requirement already satisfied: python-dateutil>=2.7 in /usr/local/lib/python3.10/dist-packages (from matplotlib>=3.2.2->ultralytics) (2.8.2)\n",
            "Requirement already satisfied: pytz>=2020.1 in /usr/local/lib/python3.10/dist-packages (from pandas>=1.1.4->ultralytics) (2022.7.1)\n",
            "Requirement already satisfied: urllib3<1.27,>=1.21.1 in /usr/local/lib/python3.10/dist-packages (from requests>=2.23.0->ultralytics) (1.26.15)\n",
            "Requirement already satisfied: certifi>=2017.4.17 in /usr/local/lib/python3.10/dist-packages (from requests>=2.23.0->ultralytics) (2022.12.7)\n",
            "Requirement already satisfied: charset-normalizer~=2.0.0 in /usr/local/lib/python3.10/dist-packages (from requests>=2.23.0->ultralytics) (2.0.12)\n",
            "Requirement already satisfied: idna<4,>=2.5 in /usr/local/lib/python3.10/dist-packages (from requests>=2.23.0->ultralytics) (3.4)\n",
            "Requirement already satisfied: filelock in /usr/local/lib/python3.10/dist-packages (from torch>=1.7.0->ultralytics) (3.12.0)\n",
            "Requirement already satisfied: typing-extensions in /usr/local/lib/python3.10/dist-packages (from torch>=1.7.0->ultralytics) (4.5.0)\n",
            "Requirement already satisfied: sympy in /usr/local/lib/python3.10/dist-packages (from torch>=1.7.0->ultralytics) (1.11.1)\n",
            "Requirement already satisfied: networkx in /usr/local/lib/python3.10/dist-packages (from torch>=1.7.0->ultralytics) (3.1)\n",
            "Requirement already satisfied: jinja2 in /usr/local/lib/python3.10/dist-packages (from torch>=1.7.0->ultralytics) (3.1.2)\n",
            "Requirement already satisfied: triton==2.0.0 in /usr/local/lib/python3.10/dist-packages (from torch>=1.7.0->ultralytics) (2.0.0)\n",
            "Requirement already satisfied: cmake in /usr/local/lib/python3.10/dist-packages (from triton==2.0.0->torch>=1.7.0->ultralytics) (3.25.2)\n",
            "Requirement already satisfied: lit in /usr/local/lib/python3.10/dist-packages (from triton==2.0.0->torch>=1.7.0->ultralytics) (16.0.5)\n",
            "Requirement already satisfied: six>=1.5 in /usr/local/lib/python3.10/dist-packages (from python-dateutil>=2.7->matplotlib>=3.2.2->ultralytics) (1.16.0)\n",
            "Requirement already satisfied: MarkupSafe>=2.0 in /usr/local/lib/python3.10/dist-packages (from jinja2->torch>=1.7.0->ultralytics) (2.1.2)\n",
            "Requirement already satisfied: mpmath>=0.19 in /usr/local/lib/python3.10/dist-packages (from sympy->torch>=1.7.0->ultralytics) (1.3.0)\n",
            "Installing collected packages: ultralytics\n",
            "Successfully installed ultralytics-8.0.115\n"
          ]
        }
      ],
      "source": [
        "!pip install ultralytics\n"
      ]
    },
    {
      "cell_type": "markdown",
      "source": [
        "old"
      ],
      "metadata": {
        "id": "eWhizoay6MTb"
      }
    },
    {
      "cell_type": "code",
      "source": [
        "from ultralytics import YOLO\n",
        "\n",
        "\n",
        "# Load a model\n",
        "# model = YOLO('yolov8n.yaml')  # build a new model from YAML\n",
        "model = YOLO('/content/drive/MyDrive/лцт/best_93_epochs.pt')  # load a pretrained model (recommended for training)\n",
        "# model = YOLO('yolov8n.yaml').load('yolov8n.pt')  # build from YAML and transfer weights\n",
        "\n"
      ],
      "metadata": {
        "id": "RGMwccJwFhd9"
      },
      "execution_count": null,
      "outputs": []
    },
    {
      "cell_type": "markdown",
      "source": [
        "10 06"
      ],
      "metadata": {
        "id": "KWwVzaHp6NPv"
      }
    },
    {
      "cell_type": "code",
      "source": [
        "from ultralytics import YOLO\n",
        "\n",
        "\n",
        "# Load a model\n",
        "# model = YOLO('yolov8n.yaml')  # build a new model from YAML\n",
        "model = YOLO('/content/best_3.pt')  # load a pretrained model (recommended for training)\n",
        "# model = YOLO('yolov8n.yaml').load('yolov8n.pt')  # build from YAML and transfer weights\n",
        "\n"
      ],
      "metadata": {
        "id": "Lm5ysEr26Omi"
      },
      "execution_count": null,
      "outputs": []
    },
    {
      "cell_type": "code",
      "source": [
        "# frames = [np.array(frame) for frame in frames]\n",
        "# inputs = frames  # list of numpy arrays\n",
        "inputs = frames\n",
        "results = model(inputs, stream = True)  # list of Results objects"
      ],
      "metadata": {
        "id": "sxj-kZAu7Qgh"
      },
      "execution_count": null,
      "outputs": []
    },
    {
      "cell_type": "code",
      "source": [
        "\n",
        "# results = model(inputs) # source already setup\n",
        "names = model.names\n",
        "c_0 = 0\n",
        "c_1 = 0\n",
        "c_2 = 0\n",
        "c_3 = 0\n",
        "c_4 = 0\n",
        "c_5 = 0\n",
        "c_6 = 0\n",
        "c_7 = 0\n",
        "c_8 = 0\n",
        "for r in results:\n",
        "    for c in r.boxes.cls:\n",
        "      if names[int(c)]=='finished': c_2+=1\n",
        "      if names[int(c)]=='semifinished':c_1+=1\n",
        "      if names[int(c)]=='unfinished':c_0+=1\n",
        "      if (c)==3: c_3+=1\n",
        "      if (c)==4: c_4+=1\n",
        "      if (c)==5: c_5+=1\n",
        "      if (c)==6: c_6+=1\n",
        "      if (c)==7: c_7+=1\n",
        "      if (c)==8: c_8+=1\n",
        "      print(names[int(c)])\n"
      ],
      "metadata": {
        "colab": {
          "base_uri": "https://localhost:8080/"
        },
        "id": "WazQDf5SAF0m",
        "outputId": "ae90b14d-95ee-4509-a023-f058afb32fe8"
      },
      "execution_count": null,
      "outputs": [
        {
          "output_type": "stream",
          "name": "stderr",
          "text": [
            "\n",
            "0: 640x384 1 finished, 1: 640x384 1 finished, 2: 640x384 1 finished, 3: 640x384 1 finished, 4: 640x384 1 unfinished, 5: 640x384 1 finished, 6: 640x384 1 finished, 7: 640x384 1 finished, 8: 640x384 1 finished, 9: 640x384 1 finished, 10: 640x384 1 finished, 34.5ms\n",
            "Speed: 2.7ms preprocess, 3.1ms inference, 1.3ms postprocess per image at shape (1, 3, 640, 640)\n"
          ]
        },
        {
          "output_type": "stream",
          "name": "stdout",
          "text": [
            "h\n",
            "finished\n",
            "h\n",
            "finished\n",
            "h\n",
            "finished\n",
            "h\n",
            "finished\n",
            "h\n",
            "unfinished\n",
            "h\n",
            "finished\n",
            "h\n",
            "finished\n",
            "h\n",
            "finished\n",
            "h\n",
            "finished\n",
            "h\n",
            "finished\n",
            "h\n",
            "finished\n"
          ]
        }
      ]
    },
    {
      "cell_type": "code",
      "source": [
        "print(c_0, c_1, c_2, c_3, c_4, c_5, c_6, c_7,c_8)"
      ],
      "metadata": {
        "colab": {
          "base_uri": "https://localhost:8080/"
        },
        "id": "cnul_Ymc8n-S",
        "outputId": "cf3a59b0-c49e-498f-eae4-29160a204537"
      },
      "execution_count": null,
      "outputs": [
        {
          "output_type": "stream",
          "name": "stdout",
          "text": [
            "1 0 10 0 0 0 0 0 0\n"
          ]
        }
      ]
    },
    {
      "cell_type": "code",
      "source": [
        "round(c_3/(c_3+c_2+c_1)*100,0), \" %\""
      ],
      "metadata": {
        "colab": {
          "base_uri": "https://localhost:8080/",
          "height": 164
        },
        "id": "VNnZ8FdzAvKW",
        "outputId": "53ac12db-f29f-4252-ae2c-876b62d5322d"
      },
      "execution_count": null,
      "outputs": [
        {
          "output_type": "error",
          "ename": "ZeroDivisionError",
          "evalue": "ignored",
          "traceback": [
            "\u001b[0;31m---------------------------------------------------------------------------\u001b[0m",
            "\u001b[0;31mZeroDivisionError\u001b[0m                         Traceback (most recent call last)",
            "\u001b[0;32m<ipython-input-20-7f7ec43d46e3>\u001b[0m in \u001b[0;36m<cell line: 1>\u001b[0;34m()\u001b[0m\n\u001b[0;32m----> 1\u001b[0;31m \u001b[0mround\u001b[0m\u001b[0;34m(\u001b[0m\u001b[0mc_3\u001b[0m\u001b[0;34m/\u001b[0m\u001b[0;34m(\u001b[0m\u001b[0mc_3\u001b[0m\u001b[0;34m+\u001b[0m\u001b[0mc_2\u001b[0m\u001b[0;34m+\u001b[0m\u001b[0mc_1\u001b[0m\u001b[0;34m)\u001b[0m\u001b[0;34m*\u001b[0m\u001b[0;36m100\u001b[0m\u001b[0;34m,\u001b[0m\u001b[0;36m0\u001b[0m\u001b[0;34m)\u001b[0m\u001b[0;34m,\u001b[0m \u001b[0;34m\" %\"\u001b[0m\u001b[0;34m\u001b[0m\u001b[0;34m\u001b[0m\u001b[0m\n\u001b[0m",
            "\u001b[0;31mZeroDivisionError\u001b[0m: division by zero"
          ]
        }
      ]
    },
    {
      "cell_type": "code",
      "source": [
        "for i in range(len(frames)):\n",
        "  plt.imshow(frames[i])#.permute(1, 2, 0))\n",
        "  plt.show()"
      ],
      "metadata": {
        "id": "UOyAJ-pnCoUO"
      },
      "execution_count": null,
      "outputs": []
    },
    {
      "cell_type": "code",
      "source": [
        "# !pip install ultralytics\n",
        "from ultralytics import YOLO\n",
        "import numpy as np\n",
        "import cv2 as cv\n",
        "from google.colab.patches import cv2_imshow\n",
        "import time\n",
        "import torch\n",
        "import matplotlib.pyplot as plt\n",
        "def wrapper(video_filename, freq, model_weights):\n",
        "  \"\"\"\n",
        "  video_filename: str\n",
        "    path to the video\n",
        "  freq: int\n",
        "    Frequency to collect frames\n",
        "  model_weights: str\n",
        "    pth file with weights of the model\n",
        "  \"\"\"\n",
        "\n",
        "  #read_video\n",
        "\n",
        "  # Open the video file\n",
        "  cap = cv.VideoCapture(video_filename)\n",
        "  frames = []\n",
        "  it = 0\n",
        "  while cap.isOpened():\n",
        "      it+=1\n",
        "      ret, frame = cap.read()\n",
        "  # Split the video on frames\n",
        "      if it%freq==0:\n",
        "        if ret:\n",
        "            frames.append(frame)\n",
        "        else:\n",
        "            break\n",
        "\n",
        "  # Load the model\n",
        "  model = YOLO(model_weights)  # load a pretrained model (recommended for training)\n",
        "  inputs = frames\n",
        "  # Predict results\n",
        "  results = model(inputs, stream = True)  # list of Results objects\n",
        "  for result in results:\n",
        "      boxes = result.boxes  # Boxes object for bbox outputs\n",
        "      masks = result.masks  # Masks object for segmentation masks outputs\n",
        "      probs = result.probs  # Class probabilities for classification outputs\n",
        "  names = model.names\n",
        "  c_0 = 0\n",
        "  c_1 = 0\n",
        "  c_2 = 0\n",
        "  c_3 = 0\n",
        "  c_4 = 0\n",
        "  c_5 = 0\n",
        "  c_6 = 0\n",
        "  c_7 = 0\n",
        "  c_8 = 0\n",
        "  for r in results:\n",
        "      for c in r.boxes.cls:\n",
        "        if names[int(c)]=='finished': c_2+=1\n",
        "        if names[int(c)]=='semifinished':c_1+=1\n",
        "        if names[int(c)]=='unfinished':c_0+=1\n",
        "        if (c)==3: c_3 =True\n",
        "        if (c)==4: c_4 =True\n",
        "        if (c)==5: c_5 =True\n",
        "        if (c)==6: c_6 =True\n",
        "        if (c)==7: c_7 =True\n",
        "        if (c)==8: c_8 =True\n",
        "  total = round(c_2/(c_2+c_1+c_0)*100,0)\n",
        "  dict_res = {'total':total, 'Power plugs and sockets': c_3, 'Kitchen appliance':c_4, 'Bathtub':c_5, 'Door':c_6, 'Window':c_7, 'Toilet':c_8 }\n",
        "  return dict_res"
      ],
      "metadata": {
        "id": "hqXDTXsCwmke",
        "colab": {
          "base_uri": "https://localhost:8080/"
        },
        "outputId": "d80c801c-dba0-41d6-dae3-251046346630"
      },
      "execution_count": null,
      "outputs": [
        {
          "output_type": "stream",
          "name": "stdout",
          "text": [
            "Looking in indexes: https://pypi.org/simple, https://us-python.pkg.dev/colab-wheels/public/simple/\n",
            "Requirement already satisfied: ultralytics in /usr/local/lib/python3.10/dist-packages (8.0.115)\n",
            "Requirement already satisfied: matplotlib>=3.2.2 in /usr/local/lib/python3.10/dist-packages (from ultralytics) (3.7.1)\n",
            "Requirement already satisfied: opencv-python>=4.6.0 in /usr/local/lib/python3.10/dist-packages (from ultralytics) (4.7.0.72)\n",
            "Requirement already satisfied: Pillow>=7.1.2 in /usr/local/lib/python3.10/dist-packages (from ultralytics) (8.4.0)\n",
            "Requirement already satisfied: PyYAML>=5.3.1 in /usr/local/lib/python3.10/dist-packages (from ultralytics) (6.0)\n",
            "Requirement already satisfied: requests>=2.23.0 in /usr/local/lib/python3.10/dist-packages (from ultralytics) (2.27.1)\n",
            "Requirement already satisfied: scipy>=1.4.1 in /usr/local/lib/python3.10/dist-packages (from ultralytics) (1.10.1)\n",
            "Requirement already satisfied: torch>=1.7.0 in /usr/local/lib/python3.10/dist-packages (from ultralytics) (2.0.1+cu118)\n",
            "Requirement already satisfied: torchvision>=0.8.1 in /usr/local/lib/python3.10/dist-packages (from ultralytics) (0.15.2+cu118)\n",
            "Requirement already satisfied: tqdm>=4.64.0 in /usr/local/lib/python3.10/dist-packages (from ultralytics) (4.65.0)\n",
            "Requirement already satisfied: pandas>=1.1.4 in /usr/local/lib/python3.10/dist-packages (from ultralytics) (1.5.3)\n",
            "Requirement already satisfied: seaborn>=0.11.0 in /usr/local/lib/python3.10/dist-packages (from ultralytics) (0.12.2)\n",
            "Requirement already satisfied: psutil in /usr/local/lib/python3.10/dist-packages (from ultralytics) (5.9.5)\n",
            "Requirement already satisfied: contourpy>=1.0.1 in /usr/local/lib/python3.10/dist-packages (from matplotlib>=3.2.2->ultralytics) (1.0.7)\n",
            "Requirement already satisfied: cycler>=0.10 in /usr/local/lib/python3.10/dist-packages (from matplotlib>=3.2.2->ultralytics) (0.11.0)\n",
            "Requirement already satisfied: fonttools>=4.22.0 in /usr/local/lib/python3.10/dist-packages (from matplotlib>=3.2.2->ultralytics) (4.39.3)\n",
            "Requirement already satisfied: kiwisolver>=1.0.1 in /usr/local/lib/python3.10/dist-packages (from matplotlib>=3.2.2->ultralytics) (1.4.4)\n",
            "Requirement already satisfied: numpy>=1.20 in /usr/local/lib/python3.10/dist-packages (from matplotlib>=3.2.2->ultralytics) (1.22.4)\n",
            "Requirement already satisfied: packaging>=20.0 in /usr/local/lib/python3.10/dist-packages (from matplotlib>=3.2.2->ultralytics) (23.1)\n",
            "Requirement already satisfied: pyparsing>=2.3.1 in /usr/local/lib/python3.10/dist-packages (from matplotlib>=3.2.2->ultralytics) (3.0.9)\n",
            "Requirement already satisfied: python-dateutil>=2.7 in /usr/local/lib/python3.10/dist-packages (from matplotlib>=3.2.2->ultralytics) (2.8.2)\n",
            "Requirement already satisfied: pytz>=2020.1 in /usr/local/lib/python3.10/dist-packages (from pandas>=1.1.4->ultralytics) (2022.7.1)\n",
            "Requirement already satisfied: urllib3<1.27,>=1.21.1 in /usr/local/lib/python3.10/dist-packages (from requests>=2.23.0->ultralytics) (1.26.15)\n",
            "Requirement already satisfied: certifi>=2017.4.17 in /usr/local/lib/python3.10/dist-packages (from requests>=2.23.0->ultralytics) (2022.12.7)\n",
            "Requirement already satisfied: charset-normalizer~=2.0.0 in /usr/local/lib/python3.10/dist-packages (from requests>=2.23.0->ultralytics) (2.0.12)\n",
            "Requirement already satisfied: idna<4,>=2.5 in /usr/local/lib/python3.10/dist-packages (from requests>=2.23.0->ultralytics) (3.4)\n",
            "Requirement already satisfied: filelock in /usr/local/lib/python3.10/dist-packages (from torch>=1.7.0->ultralytics) (3.12.0)\n",
            "Requirement already satisfied: typing-extensions in /usr/local/lib/python3.10/dist-packages (from torch>=1.7.0->ultralytics) (4.5.0)\n",
            "Requirement already satisfied: sympy in /usr/local/lib/python3.10/dist-packages (from torch>=1.7.0->ultralytics) (1.11.1)\n",
            "Requirement already satisfied: networkx in /usr/local/lib/python3.10/dist-packages (from torch>=1.7.0->ultralytics) (3.1)\n",
            "Requirement already satisfied: jinja2 in /usr/local/lib/python3.10/dist-packages (from torch>=1.7.0->ultralytics) (3.1.2)\n",
            "Requirement already satisfied: triton==2.0.0 in /usr/local/lib/python3.10/dist-packages (from torch>=1.7.0->ultralytics) (2.0.0)\n",
            "Requirement already satisfied: cmake in /usr/local/lib/python3.10/dist-packages (from triton==2.0.0->torch>=1.7.0->ultralytics) (3.25.2)\n",
            "Requirement already satisfied: lit in /usr/local/lib/python3.10/dist-packages (from triton==2.0.0->torch>=1.7.0->ultralytics) (16.0.5)\n",
            "Requirement already satisfied: six>=1.5 in /usr/local/lib/python3.10/dist-packages (from python-dateutil>=2.7->matplotlib>=3.2.2->ultralytics) (1.16.0)\n",
            "Requirement already satisfied: MarkupSafe>=2.0 in /usr/local/lib/python3.10/dist-packages (from jinja2->torch>=1.7.0->ultralytics) (2.1.2)\n",
            "Requirement already satisfied: mpmath>=0.19 in /usr/local/lib/python3.10/dist-packages (from sympy->torch>=1.7.0->ultralytics) (1.3.0)\n"
          ]
        }
      ]
    }
  ]
}